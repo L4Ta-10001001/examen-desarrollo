{
  "cells": [
    {
      "cell_type": "markdown",
      "metadata": {
        "id": "view-in-github",
        "colab_type": "text"
      },
      "source": [
        "<a href=\"https://colab.research.google.com/github/L4Ta-10001001/examen-desarrollo/blob/main/examen_herrera_erik.ipynb\" target=\"_parent\"><img src=\"https://colab.research.google.com/assets/colab-badge.svg\" alt=\"Open In Colab\"/></a>"
      ]
    },
    {
      "cell_type": "markdown",
      "source": [],
      "metadata": {
        "id": "SqOWyWFOCnfp"
      }
    },
    {
      "cell_type": "markdown",
      "source": [
        "# UNIVERSIDAD CENTRAL DEL ECUADOR\n",
        "## FACULTAD DE INGENIERÍA Y CIENCIAS APLICADAS\n",
        "## NOMBRE: Herrera Erik\n",
        "## MATERA: Desarrollo de Sistemas de Información\n",
        "## FECHA: 21/05/2025"
      ],
      "metadata": {
        "id": "yS6QUPizDN7a"
      }
    },
    {
      "cell_type": "code",
      "source": [
        "import pandas as pd\n",
        "import requests\n",
        "from bs4 import BeautifulSoup\n",
        "import re\n",
        "from collections import Counter\n",
        "import nltk\n",
        "nltk.download('punkt')\n",
        "nltk.download('stopwords')\n",
        "from nltk.corpus import stopwords\n",
        "from nltk.tokenize import word_tokenize\n",
        "\n",
        "# 1. Scrapeo de todas las tablas\n",
        "url = \"https://en.wikipedia.org/wiki/List_of_Latin_phrases_(full)\"\n",
        "response = requests.get(url)\n",
        "soup = BeautifulSoup(response.content, \"html.parser\")\n",
        "\n",
        "# Extraer todas las tablas\n",
        "tables = soup.find_all(\"table\", {\"class\": \"wikitable\"})\n",
        "\n",
        "# Unir todas las tablas en un solo DataFrame\n",
        "df_list = [pd.read_html(str(table))[0] for table in tables]\n",
        "df = pd.concat(df_list, ignore_index=True)\n",
        "\n",
        "# Guardar en archivo Excel\n",
        "df.to_excel(\"latin_phrases.xlsx\", index=False)\n",
        "\n",
        "# 2. Análisis de palabras y verbos más frecuentes\n",
        "latin_text = ' '.join(df[df.columns[0]].dropna().astype(str))  # Primera columna: Latín\n",
        "english_text = ' '.join(df[df.columns[1]].dropna().astype(str))  # Segunda columna: Inglés\n",
        "\n",
        "# Función corregida sin stopwords para latín\n",
        "def preprocess(text, lang='english'):\n",
        "    text = re.sub(r'\\[[^\\]]*\\]', '', text)\n",
        "    tokens = word_tokenize(text.lower())\n",
        "    if lang == 'latin':\n",
        "        return [word for word in tokens if word.isalpha()]\n",
        "    else:\n",
        "        stop_words = set(stopwords.words(lang))\n",
        "        return [word for word in tokens if word.isalpha() and word not in stop_words]\n",
        "\n",
        "latin_tokens = preprocess(latin_text, lang='latin')\n",
        "english_tokens = preprocess(english_text, lang='english')\n",
        "\n",
        "# Frecuencia de palabras\n",
        "latin_freq = Counter(latin_tokens).most_common(10)\n",
        "english_freq = Counter(english_tokens).most_common(10)\n",
        "\n",
        "print(\"Palabras más comunes en latín:\")\n",
        "print(latin_freq)\n",
        "print(\"\\nPalabras más comunes en inglés:\")\n",
        "print(english_freq)\n",
        "\n",
        "# 3. Generar 5 nuevas frases en español\n",
        "latin_words = [word for word, _ in latin_freq]\n",
        "english_words = [word for word, _ in english_freq]\n",
        "\n",
        "print(\"\\nFrases nuevas en español basadas en las palabras más comunes:\")\n",
        "for i in range(5):\n",
        "    frase = f\"El valor de '{latin_words[i % len(latin_words)]}' se refleja en '{english_words[i % len(english_words)]}' cada día.\"\n",
        "    print(f\"- {frase}\")\n"
      ],
      "metadata": {
        "colab": {
          "base_uri": "https://localhost:8080/"
        },
        "id": "eK2lg4AeeSRC",
        "outputId": "19768adc-fdd6-4371-9e4a-9dca1458c902"
      },
      "execution_count": null,
      "outputs": [
        {
          "output_type": "stream",
          "name": "stderr",
          "text": [
            "[nltk_data] Downloading package punkt to /root/nltk_data...\n",
            "[nltk_data]   Package punkt is already up-to-date!\n",
            "[nltk_data] Downloading package stopwords to /root/nltk_data...\n",
            "[nltk_data]   Package stopwords is already up-to-date!\n",
            "<ipython-input-22-1c3201b538f8>:21: FutureWarning: Passing literal html to 'read_html' is deprecated and will be removed in a future version. To read from a literal string, wrap it in a 'StringIO' object.\n",
            "  df_list = [pd.read_html(str(table))[0] for table in tables]\n",
            "<ipython-input-22-1c3201b538f8>:21: FutureWarning: Passing literal html to 'read_html' is deprecated and will be removed in a future version. To read from a literal string, wrap it in a 'StringIO' object.\n",
            "  df_list = [pd.read_html(str(table))[0] for table in tables]\n",
            "<ipython-input-22-1c3201b538f8>:21: FutureWarning: Passing literal html to 'read_html' is deprecated and will be removed in a future version. To read from a literal string, wrap it in a 'StringIO' object.\n",
            "  df_list = [pd.read_html(str(table))[0] for table in tables]\n",
            "<ipython-input-22-1c3201b538f8>:21: FutureWarning: Passing literal html to 'read_html' is deprecated and will be removed in a future version. To read from a literal string, wrap it in a 'StringIO' object.\n",
            "  df_list = [pd.read_html(str(table))[0] for table in tables]\n",
            "<ipython-input-22-1c3201b538f8>:21: FutureWarning: Passing literal html to 'read_html' is deprecated and will be removed in a future version. To read from a literal string, wrap it in a 'StringIO' object.\n",
            "  df_list = [pd.read_html(str(table))[0] for table in tables]\n",
            "<ipython-input-22-1c3201b538f8>:21: FutureWarning: Passing literal html to 'read_html' is deprecated and will be removed in a future version. To read from a literal string, wrap it in a 'StringIO' object.\n",
            "  df_list = [pd.read_html(str(table))[0] for table in tables]\n",
            "<ipython-input-22-1c3201b538f8>:21: FutureWarning: Passing literal html to 'read_html' is deprecated and will be removed in a future version. To read from a literal string, wrap it in a 'StringIO' object.\n",
            "  df_list = [pd.read_html(str(table))[0] for table in tables]\n",
            "<ipython-input-22-1c3201b538f8>:21: FutureWarning: Passing literal html to 'read_html' is deprecated and will be removed in a future version. To read from a literal string, wrap it in a 'StringIO' object.\n",
            "  df_list = [pd.read_html(str(table))[0] for table in tables]\n",
            "<ipython-input-22-1c3201b538f8>:21: FutureWarning: Passing literal html to 'read_html' is deprecated and will be removed in a future version. To read from a literal string, wrap it in a 'StringIO' object.\n",
            "  df_list = [pd.read_html(str(table))[0] for table in tables]\n",
            "<ipython-input-22-1c3201b538f8>:21: FutureWarning: Passing literal html to 'read_html' is deprecated and will be removed in a future version. To read from a literal string, wrap it in a 'StringIO' object.\n",
            "  df_list = [pd.read_html(str(table))[0] for table in tables]\n",
            "<ipython-input-22-1c3201b538f8>:21: FutureWarning: Passing literal html to 'read_html' is deprecated and will be removed in a future version. To read from a literal string, wrap it in a 'StringIO' object.\n",
            "  df_list = [pd.read_html(str(table))[0] for table in tables]\n",
            "<ipython-input-22-1c3201b538f8>:21: FutureWarning: Passing literal html to 'read_html' is deprecated and will be removed in a future version. To read from a literal string, wrap it in a 'StringIO' object.\n",
            "  df_list = [pd.read_html(str(table))[0] for table in tables]\n",
            "<ipython-input-22-1c3201b538f8>:21: FutureWarning: Passing literal html to 'read_html' is deprecated and will be removed in a future version. To read from a literal string, wrap it in a 'StringIO' object.\n",
            "  df_list = [pd.read_html(str(table))[0] for table in tables]\n",
            "<ipython-input-22-1c3201b538f8>:21: FutureWarning: Passing literal html to 'read_html' is deprecated and will be removed in a future version. To read from a literal string, wrap it in a 'StringIO' object.\n",
            "  df_list = [pd.read_html(str(table))[0] for table in tables]\n",
            "<ipython-input-22-1c3201b538f8>:21: FutureWarning: Passing literal html to 'read_html' is deprecated and will be removed in a future version. To read from a literal string, wrap it in a 'StringIO' object.\n",
            "  df_list = [pd.read_html(str(table))[0] for table in tables]\n",
            "<ipython-input-22-1c3201b538f8>:21: FutureWarning: Passing literal html to 'read_html' is deprecated and will be removed in a future version. To read from a literal string, wrap it in a 'StringIO' object.\n",
            "  df_list = [pd.read_html(str(table))[0] for table in tables]\n",
            "<ipython-input-22-1c3201b538f8>:21: FutureWarning: Passing literal html to 'read_html' is deprecated and will be removed in a future version. To read from a literal string, wrap it in a 'StringIO' object.\n",
            "  df_list = [pd.read_html(str(table))[0] for table in tables]\n",
            "<ipython-input-22-1c3201b538f8>:21: FutureWarning: Passing literal html to 'read_html' is deprecated and will be removed in a future version. To read from a literal string, wrap it in a 'StringIO' object.\n",
            "  df_list = [pd.read_html(str(table))[0] for table in tables]\n"
          ]
        },
        {
          "output_type": "stream",
          "name": "stdout",
          "text": [
            "Palabras más comunes en latín:\n",
            "[('in', 211), ('non', 177), ('et', 164), ('est', 128), ('ad', 99), ('ex', 75), ('pro', 54), ('per', 52), ('sine', 43), ('veritas', 42)]\n",
            "\n",
            "Palabras más comunes en inglés:\n",
            "[('god', 91), ('one', 83), ('law', 81), ('truth', 63), ('things', 59), ('without', 49), ('nothing', 48), ('let', 45), ('light', 44), ('peace', 43)]\n",
            "\n",
            "Frases nuevas en español basadas en las palabras más comunes:\n",
            "- El valor de 'in' se refleja en 'god' cada día.\n",
            "- El valor de 'non' se refleja en 'one' cada día.\n",
            "- El valor de 'et' se refleja en 'law' cada día.\n",
            "- El valor de 'est' se refleja en 'truth' cada día.\n",
            "- El valor de 'ad' se refleja en 'things' cada día.\n"
          ]
        }
      ]
    }
  ],
  "metadata": {
    "kernelspec": {
      "display_name": "Python 3",
      "name": "python3"
    },
    "language_info": {
      "name": "python",
      "version": "3.x"
    },
    "colab": {
      "provenance": [],
      "gpuType": "T4",
      "include_colab_link": true
    }
  },
  "nbformat": 4,
  "nbformat_minor": 0
}